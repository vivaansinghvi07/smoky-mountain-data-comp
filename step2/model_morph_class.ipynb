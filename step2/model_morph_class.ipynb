{
 "cells": [
  {
   "cell_type": "code",
   "execution_count": 13,
   "metadata": {},
   "outputs": [],
   "source": [
    "import os\n",
    "import cv2\n",
    "import math\n",
    "import pickle\n",
    "import random\n",
    "import numpy as np\n",
    "import pandas as pd\n",
    "from pathlib import Path\n",
    "from threading import Thread\n",
    "import matplotlib.pyplot as plt\n",
    "from IPython.display import clear_output\n",
    "from xgboost.sklearn import XGBClassifier\n",
    "from sklearn.preprocessing import LabelEncoder\n",
    "from sklearn.preprocessing import StandardScaler\n",
    "from sklearn.model_selection import train_test_split\n",
    "from sklearn.multioutput import MultiOutputClassifier\n",
    "from sklearn.metrics import confusion_matrix, ConfusionMatrixDisplay"
   ]
  },
  {
   "cell_type": "code",
   "execution_count": 4,
   "metadata": {},
   "outputs": [
    {
     "data": {
      "text/html": [
       "<div>\n",
       "<style scoped>\n",
       "    .dataframe tbody tr th:only-of-type {\n",
       "        vertical-align: middle;\n",
       "    }\n",
       "\n",
       "    .dataframe tbody tr th {\n",
       "        vertical-align: top;\n",
       "    }\n",
       "\n",
       "    .dataframe thead th {\n",
       "        text-align: right;\n",
       "    }\n",
       "</style>\n",
       "<table border=\"1\" class=\"dataframe\">\n",
       "  <thead>\n",
       "    <tr style=\"text-align: right;\">\n",
       "      <th></th>\n",
       "      <th>filename</th>\n",
       "      <th>treatment</th>\n",
       "      <th>block</th>\n",
       "      <th>row</th>\n",
       "      <th>position</th>\n",
       "      <th>genotype</th>\n",
       "    </tr>\n",
       "  </thead>\n",
       "  <tbody>\n",
       "    <tr>\n",
       "      <th>0</th>\n",
       "      <td>EB00CEE6-848F-4E2A-9A56-C0CD83D55630.jpg</td>\n",
       "      <td>D</td>\n",
       "      <td>1.0</td>\n",
       "      <td>8.0</td>\n",
       "      <td>32.0</td>\n",
       "      <td>BESC-34</td>\n",
       "    </tr>\n",
       "    <tr>\n",
       "      <th>1</th>\n",
       "      <td>5AF900F9-D701-4994-95AC-2352420BF18F.jpg</td>\n",
       "      <td>C</td>\n",
       "      <td>1.0</td>\n",
       "      <td>10.0</td>\n",
       "      <td>12.0</td>\n",
       "      <td>**BESC-417_LM**,core</td>\n",
       "    </tr>\n",
       "    <tr>\n",
       "      <th>2</th>\n",
       "      <td>F7D01515-92CA-4AF5-9BD9-3A4CD99EDF42.jpg</td>\n",
       "      <td>C</td>\n",
       "      <td>2.0</td>\n",
       "      <td>3.0</td>\n",
       "      <td>40.0</td>\n",
       "      <td>BESC-468</td>\n",
       "    </tr>\n",
       "    <tr>\n",
       "      <th>3</th>\n",
       "      <td>9117861B-2D2B-4EA8-94B1-D0A862914398.jpg</td>\n",
       "      <td>C</td>\n",
       "      <td>2.0</td>\n",
       "      <td>6.0</td>\n",
       "      <td>54.0</td>\n",
       "      <td>BESC-28_LM</td>\n",
       "    </tr>\n",
       "    <tr>\n",
       "      <th>4</th>\n",
       "      <td>D1B282CF-2A10-4458-9E3A-FE08E065A3D6.jpg</td>\n",
       "      <td>C</td>\n",
       "      <td>1.0</td>\n",
       "      <td>24.0</td>\n",
       "      <td>22.0</td>\n",
       "      <td>**LILD-26-5_LM**,core</td>\n",
       "    </tr>\n",
       "  </tbody>\n",
       "</table>\n",
       "</div>"
      ],
      "text/plain": [
       "                                   filename treatment  block   row  position  \\\n",
       "0  EB00CEE6-848F-4E2A-9A56-C0CD83D55630.jpg         D    1.0   8.0      32.0   \n",
       "1  5AF900F9-D701-4994-95AC-2352420BF18F.jpg         C    1.0  10.0      12.0   \n",
       "2  F7D01515-92CA-4AF5-9BD9-3A4CD99EDF42.jpg         C    2.0   3.0      40.0   \n",
       "3  9117861B-2D2B-4EA8-94B1-D0A862914398.jpg         C    2.0   6.0      54.0   \n",
       "4  D1B282CF-2A10-4458-9E3A-FE08E065A3D6.jpg         C    1.0  24.0      22.0   \n",
       "\n",
       "                genotype  \n",
       "0                BESC-34  \n",
       "1   **BESC-417_LM**,core  \n",
       "2               BESC-468  \n",
       "3             BESC-28_LM  \n",
       "4  **LILD-26-5_LM**,core  "
      ]
     },
     "execution_count": 4,
     "metadata": {},
     "output_type": "execute_result"
    }
   ],
   "source": [
    "# get smoky-mountain-data-comp folder\n",
    "HOME_DIR = str(Path().cwd().parent)\n",
    "\n",
    "# get the sam data folder\n",
    "SAM_FOLDER = \"seg_from_SAM\"\n",
    "\n",
    "# consistent randmo seed for everything\n",
    "RANDOM_SEED = 107\n",
    "\n",
    "# load the spreadsheet into the kernel\n",
    "SHEET_DATA = pd.read_excel(f\"{HOME_DIR}/step1/data.xlsx\")\n",
    "SHEET_DATA.head()"
   ]
  },
  {
   "cell_type": "markdown",
   "metadata": {},
   "source": [
    "Functions and Type Declarations"
   ]
  },
  {
   "cell_type": "code",
   "execution_count": 6,
   "metadata": {},
   "outputs": [],
   "source": [
    "cv2.Image = np.ndarray\n",
    "cv2.Contour = np.ndarray\n",
    "\n",
    "# shows an image on ipynb\n",
    "def imshow(img: np.ndarray) -> None:\n",
    "    plt.axis('off')\n",
    "    plt.grid(False)\n",
    "    plt.imshow(cv2.cvtColor(img, cv2.COLOR_BGR2RGB))\n",
    "    plt.show()\n",
    "\n",
    "# get a random filename from within the sheet\n",
    "def get_random_filename() -> str:\n",
    "    return SHEET_DATA['filename'][random.randint(0, len(SHEET_DATA)-1)]\n",
    "\n",
    "# display filename and image, and get image going to filename\n",
    "def get_image_leaf(filename: str = None, show: bool = True):\n",
    "    if filename is None:\n",
    "        filename = get_random_filename()\n",
    "    img = cv2.imread(f\"leaves/{filename}\")\n",
    "    if show:\n",
    "        print(filename)\n",
    "        imshow(img)\n",
    "    return img\n",
    "\n",
    "def get_major_contour(img: cv2.Image) -> cv2.Contour:\n",
    "\n",
    "    gray = grayscale(img)\n",
    "    blur = cv2.GaussianBlur(gray, (21, 21), sigmaX=0, sigmaY=0)\n",
    "    _, thresh = cv2.threshold(blur, 1, 255, cv2.THRESH_BINARY)\n",
    "\n",
    "    # get the contour of the leaf if there is one\n",
    "    try:\n",
    "        contour = cv2.findContours(thresh, cv2.RETR_EXTERNAL, cv2.CHAIN_APPROX_SIMPLE)[0][0]\n",
    "    except IndexError:\n",
    "        return None\n",
    "    \n",
    "    return contour\n",
    "\n",
    "# easy access grayscale function\n",
    "def grayscale(img: cv2.Image) -> cv2.Image:\n",
    "    return cv2.cvtColor(img, cv2.COLOR_BGR2GRAY)"
   ]
  },
  {
   "cell_type": "markdown",
   "metadata": {},
   "source": [
    "Gets the features from the leaf (extended previous feature finding)"
   ]
  },
  {
   "cell_type": "code",
   "execution_count": 18,
   "metadata": {},
   "outputs": [
    {
     "name": "stdout",
     "output_type": "stream",
     "text": [
      "307F9C13-0AD2-45A3-A361-3237D76763C8.jpg\n"
     ]
    },
    {
     "data": {
      "image/png": "[encoded data removed]",
      "text/plain": [
       "<Figure size 640x480 with 1 Axes>"
      ]
     },
     "metadata": {},
     "output_type": "display_data"
    },
    {
     "data": {
      "text/plain": [
       "{'area_peri': 0.05424530985331497,\n",
       " 'area_rect': 0.7561250805931657,\n",
       " 'area_convex': 0.9721776073778561,\n",
       " 'area_elli_inter': 0.9747299793931642,\n",
       " 'ellipse_elli_inter': 0.9585087799873356,\n",
       " 'area_to_circ': 0.44832409918814103,\n",
       " 'area_image': 0.14149513494219995,\n",
       " 'green_area': 0.8008775669722163,\n",
       " 'h0': 0.6818551418881422,\n",
       " 'h1': 1.7539333288771686,\n",
       " 'h2': 4.375004727368296,\n",
       " 'h3': 5.07495244196774,\n",
       " 'h4': 9.829571396839123,\n",
       " 'h5': 6.038837679713217,\n",
       " 'h6': -10.247018005610768,\n",
       " 'col_h': 50.34698769697183,\n",
       " 'col_s': 73.61107977579582,\n",
       " 'col_v': 61.049123982091864}"
      ]
     },
     "execution_count": 18,
     "metadata": {},
     "output_type": "execute_result"
    }
   ],
   "source": [
    "def get_features_leaf(img: cv2.Image) -> dict[str, float]:\n",
    "\n",
    "    GREEN_LOWER = (20, 50, 50)\n",
    "    GREEN_UPPER = (80, 255, 255)\n",
    "\n",
    "    # get the leaf contour\n",
    "    leaf = get_major_contour(img)\n",
    "    if leaf is None:\n",
    "        return None\n",
    "\n",
    "    # get contour moments\n",
    "    moments = cv2.HuMoments(cv2.moments(leaf))\n",
    "    adjusted_moments = map(lambda x: -math.copysign(1.0, x) * math.log10(abs(x)), [*moments])\n",
    "    moment_dict = {f'h{i}': m for i, m in enumerate(adjusted_moments)}\n",
    "\n",
    "    area = cv2.contourArea(leaf)\n",
    "    x, y, w, h = cv2.boundingRect(leaf)\n",
    "\n",
    "    # the idea here is that ratios are more important than the values themselevs\n",
    "    # get ratio of area to bounding rect, perimeter, and bounding hull\n",
    "    area_rect_ratio = area / (w * h)\n",
    "    area_peri_ratio = area / cv2.arcLength(leaf, True) ** 2    # might make it too sensitive :O\n",
    "    convex_area_ratio = area / cv2.contourArea(cv2.convexHull(leaf))\n",
    "\n",
    "    # ratio of area covered by fit ellipse to contour\n",
    "    el_mask, cnt_mask = [np.zeros((y+h*3, x+w*3)) for _ in range(2)]\n",
    "    ellipse = cv2.fitEllipse(leaf)\n",
    "    ellipse_area = float(np.prod(ellipse[1])) * math.pi / 4\n",
    "    el_mask = cv2.ellipse(el_mask, ellipse, 100, thickness=cv2.FILLED)\n",
    "    cnt_mask = cv2.drawContours(cnt_mask, [leaf], -1, 100, cv2.FILLED)\n",
    "    total_mask = cv2.threshold((el_mask + cnt_mask).astype(np.uint8), 150, 255, 0)[1]\n",
    "    merged_contours = cv2.findContours(total_mask, cv2.RETR_EXTERNAL, cv2.CHAIN_APPROX_SIMPLE)[0]\n",
    "    total_merged_area = sum(map(cv2.contourArea, merged_contours))\n",
    "\n",
    "    # ratio of area (in contour and ellipse) to interesct with bounding ellipse\n",
    "    area_intersect_ratio = total_merged_area / area\n",
    "    area_ellipse_intersect_ratio = total_merged_area / ellipse_area\n",
    "\n",
    "    # get average color - in hsv\n",
    "    drawn_contour = cv2.drawContours(np.zeros(img.shape[:2], dtype=np.uint8), [leaf], -1, (255), cv2.FILLED)\n",
    "    mean = cv2.mean(img, mask=drawn_contour)\n",
    "    avg_colors = {\n",
    "        label: col_val for label, col_val\n",
    "        in zip(['col_h', 'col_s', 'col_v'], mean)\n",
    "    }\n",
    "\n",
    "    # get ratio of contour area to area of whole image\n",
    "    area_imagearea_ratio = area / float(np.prod(img.shape[:2]))\n",
    "\n",
    "    # area of brown splotches \n",
    "    only_green = cv2.inRange(cv2.cvtColor(img, cv2.COLOR_BGR2HSV), GREEN_LOWER, GREEN_UPPER)\n",
    "    green_area = only_green.sum() // 255\n",
    "\n",
    "    # ratio of green area to whole thing area\n",
    "    green_area_ratio = green_area / area\n",
    "    \n",
    "    # get the ratio of the area of the min enclosing circle to area of contour\n",
    "    _, radius = cv2.minEnclosingCircle(leaf)\n",
    "    circle_area = radius**2 * 3.1415926535\n",
    "    area_to_circle_ratio = area / circle_area\n",
    "\n",
    "    # return extracted features\n",
    "    return {\n",
    "        'area_peri': area_peri_ratio,\n",
    "        'area_rect': area_rect_ratio,\n",
    "        'area_convex': convex_area_ratio,\n",
    "        'area_elli_inter': area_intersect_ratio,\n",
    "        'ellipse_elli_inter': area_ellipse_intersect_ratio,\n",
    "        'area_to_circ': area_to_circle_ratio,\n",
    "        'area_image': area_imagearea_ratio,\n",
    "        'green_area': green_area_ratio\n",
    "    } | moment_dict | avg_colors\n",
    "\n",
    "img = get_image_leaf()\n",
    "get_features_leaf(img)"
   ]
  },
  {
   "cell_type": "markdown",
   "metadata": {},
   "source": [
    "Train model subjectively"
   ]
  },
  {
   "cell_type": "code",
   "execution_count": 19,
   "metadata": {},
   "outputs": [
    {
     "name": "stdout",
     "output_type": "stream",
     "text": [
      "   area_peri  area_rect  area_convex  area_elli_inter  ellipse_elli_inter  area_to_circ  area_image  green_area        h0        h1  ...        h3         h4        h5         h6      col_h       col_s       col_v         color       shape splotch\n",
      "0   0.061711   0.762304     0.981324         0.983802            0.970738      0.589437    0.200855    0.879384  0.742867  2.141855  ...  6.619501 -12.545615 -7.713002  13.227133  21.510662  100.730264  100.180740  yellow_green      oblong     low\n",
      "1   0.038792   0.673701     0.976217         0.951215            0.923434      0.262250    0.231186    0.930968  0.528923  1.213533  ...  3.219565   6.318330  3.827691   8.065547  37.451820   76.044768   63.187753    dark_green  lanceolate    none\n",
      "2   0.056377   0.709074     0.966671         0.965582            0.959860      0.519880    0.158231    0.901328  0.733679  2.079237  ...  5.434485  10.446622  6.751127 -10.554237  43.339036   86.421210   74.716978    dark_green  elliptical     low\n",
      "3   0.056058   0.700230     0.979327         0.963904            0.957418      0.460901    0.210838    0.844550  0.709490  1.909269  ...  5.782329  11.371083 -7.957473 -11.003783  40.633269   63.624004   53.042570    dark_green  elliptical     low\n",
      "4   0.042132   0.716452     0.948147         0.956822            0.906495      0.313949    0.283403    0.950767  0.589984  1.404457  ...  3.873527   7.598385  4.601525   8.717337  27.447612   87.304731   67.146442    dark_green       ovate     low\n",
      "\n",
      "[5 rows x 21 columns]\n"
     ]
    }
   ],
   "source": [
    "IMAGE_COUNT = 100\n",
    "DATA_FOLDER = \"morph_model\"\n",
    "\n",
    "if DATA_FOLDER not in os.listdir():\n",
    "    os.mkdir(DATA_FOLDER)\n",
    "\n",
    "class FeatureThread(Thread):\n",
    "    def __init__(self, img: cv2.Image):\n",
    "        Thread.__init__(self)\n",
    "        self.leaf = img\n",
    "        self.features = None\n",
    "    def run(self):\n",
    "        self.features = get_features_leaf(self.leaf)\n",
    "\n",
    "data = []\n",
    "random.seed(RANDOM_SEED)\n",
    "files = {*random.choices(os.listdir(\"leaves\"), k=IMAGE_COUNT)}\n",
    "try:\n",
    "    for filename in files:\n",
    "\n",
    "        # get the image and the leaf contours\n",
    "        leaf = get_image_leaf(filename, show=False)\n",
    "        if leaf.shape[:2] == (128, 128):\n",
    "            continue\n",
    "\n",
    "        # start a thread for feature extraction\n",
    "        thread = FeatureThread(leaf)\n",
    "        thread.start()\n",
    "        imshow(leaf)\n",
    "\n",
    "        # wait for thread to run during input, join thread, and take data\n",
    "        color_class = {'dg': 'dark_green', 'lg': 'light_green', 'y': 'yellow', 'yg': 'yellow_green'}[input(\"What color is this leaf?\")]\n",
    "        shape_class = ['ovate', 'lanceolate', 'elliptical', 'obovate', 'oblanceolate',\n",
    "                       'oblong', 'linear', 'peltate', 'reniform', 'spatulate'][int(input(\"What leaf morphology number is this?\"))-1]\n",
    "        splotch_class = ['none', 'low', 'medium', 'high'][int(input(\"Enter the level of brown splotches you see on the screen\"))]\n",
    "\n",
    "        thread.join()\n",
    "        data.append(thread.features | {'color': color_class, 'shape': shape_class, 'splotch': splotch_class})\n",
    "        clear_output()\n",
    "\n",
    "# store data regardless of exit scenario\n",
    "finally:\n",
    "    df = pd.DataFrame(data)\n",
    "    pd.set_option('display.width', 300)\n",
    "    print(df.head())\n",
    "    if DATA_FOLDER not in os.listdir():\n",
    "        os.mkdir(DATA_FOLDER)\n",
    "    df.to_csv(f'{DATA_FOLDER}/data.csv', index=False)"
   ]
  },
  {
   "cell_type": "code",
   "execution_count": 15,
   "metadata": {},
   "outputs": [
    {
     "name": "stdout",
     "output_type": "stream",
     "text": [
      "The accuracy of the model was 62.82%.\n"
     ]
    }
   ],
   "source": [
    "MODEL_FOLDER = \"morph_model\"\n",
    "\n",
    "# get training and testing data\n",
    "df = pd.read_csv(f\"{MODEL_FOLDER}/data.csv\")\n",
    "labels = pd.DataFrame({\n",
    "    'color': df.pop('color'),\n",
    "    'shape': df.pop('shape'),\n",
    "    'splotch': df.pop('splotch')\n",
    "})\n",
    "\n",
    "# encode columns to be numerical\n",
    "la_enc = LabelEncoder()\n",
    "encoders = {\n",
    "    'color': LabelEncoder(),\n",
    "    'shape': LabelEncoder(),\n",
    "    'splotch': LabelEncoder(),\n",
    "}\n",
    "\n",
    "# fit each label encoder\n",
    "for col in labels.columns:\n",
    "    labels[col] = encoders[col].fit_transform(labels[col])\n",
    "\n",
    "# split data\n",
    "X_train, X_test, y_train, y_test = train_test_split(df, labels, test_size=0.30, random_state=RANDOM_SEED)\n",
    "\n",
    "# scale data to normailty\n",
    "scaler = StandardScaler()\n",
    "X_train = scaler.fit_transform(X_train)\n",
    "X_test = scaler.transform(X_test)\n",
    "\n",
    "# create, fit, and test model\n",
    "model = MultiOutputClassifier(XGBClassifier(random_state=RANDOM_SEED))\n",
    "model.fit(X_train, y_train)\n",
    "y_pred = model.predict(X_test)\n",
    "y_test = np.array(y_test)\n",
    "\n",
    "# save models\n",
    "with open(f\"{MODEL_FOLDER}/model.pkl\", \"wb\") as f:\n",
    "    pickle.dump(model, f)\n",
    "with open(f\"{MODEL_FOLDER}/scaler.pkl\", \"wb\") as f:\n",
    "    pickle.dump(scaler, f)\n",
    "with open(f\"{MODEL_FOLDER}/encoders.pkl\", \"wb\") as f:\n",
    "    pickle.dump(encoders, f)\n",
    "\n",
    "# test accuracy\n",
    "accuracy = sum([pred_row[i] == true_row[i] for i in range(3) \n",
    "                for pred_row, true_row in zip(y_pred, y_test)]) / len(y_test) / 3\n",
    "print(f\"The accuracy of the model was {accuracy:.2%}.\")"
   ]
  },
  {
   "cell_type": "code",
   "execution_count": 110,
   "metadata": {},
   "outputs": [
    {
     "data": {
      "text/html": [
       "<div>\n",
       "<style scoped>\n",
       "    .dataframe tbody tr th:only-of-type {\n",
       "        vertical-align: middle;\n",
       "    }\n",
       "\n",
       "    .dataframe tbody tr th {\n",
       "        vertical-align: top;\n",
       "    }\n",
       "\n",
       "    .dataframe thead th {\n",
       "        text-align: right;\n",
       "    }\n",
       "</style>\n",
       "<table border=\"1\" class=\"dataframe\">\n",
       "  <thead>\n",
       "    <tr style=\"text-align: right;\">\n",
       "      <th></th>\n",
       "      <th>color_pred</th>\n",
       "      <th>color_true</th>\n",
       "      <th>shape_pred</th>\n",
       "      <th>shape_true</th>\n",
       "      <th>splotch_pred</th>\n",
       "      <th>splotch_true</th>\n",
       "    </tr>\n",
       "  </thead>\n",
       "  <tbody>\n",
       "    <tr>\n",
       "      <th>21</th>\n",
       "      <td>yellow_green</td>\n",
       "      <td>yellow_green</td>\n",
       "      <td>elliptical</td>\n",
       "      <td>elliptical</td>\n",
       "      <td>low</td>\n",
       "      <td>low</td>\n",
       "    </tr>\n",
       "    <tr>\n",
       "      <th>22</th>\n",
       "      <td>dark_green</td>\n",
       "      <td>yellow_green</td>\n",
       "      <td>lanceolate</td>\n",
       "      <td>lanceolate</td>\n",
       "      <td>low</td>\n",
       "      <td>high</td>\n",
       "    </tr>\n",
       "    <tr>\n",
       "      <th>23</th>\n",
       "      <td>dark_green</td>\n",
       "      <td>light_green</td>\n",
       "      <td>elliptical</td>\n",
       "      <td>lanceolate</td>\n",
       "      <td>low</td>\n",
       "      <td>low</td>\n",
       "    </tr>\n",
       "    <tr>\n",
       "      <th>24</th>\n",
       "      <td>light_green</td>\n",
       "      <td>light_green</td>\n",
       "      <td>lanceolate</td>\n",
       "      <td>lanceolate</td>\n",
       "      <td>none</td>\n",
       "      <td>none</td>\n",
       "    </tr>\n",
       "    <tr>\n",
       "      <th>25</th>\n",
       "      <td>yellow_green</td>\n",
       "      <td>yellow_green</td>\n",
       "      <td>lanceolate</td>\n",
       "      <td>lanceolate</td>\n",
       "      <td>medium</td>\n",
       "      <td>medium</td>\n",
       "    </tr>\n",
       "  </tbody>\n",
       "</table>\n",
       "</div>"
      ],
      "text/plain": [
       "      color_pred    color_true  shape_pred  shape_true splotch_pred splotch_true\n",
       "21  yellow_green  yellow_green  elliptical  elliptical          low          low\n",
       "22    dark_green  yellow_green  lanceolate  lanceolate          low         high\n",
       "23    dark_green   light_green  elliptical  lanceolate          low          low\n",
       "24   light_green   light_green  lanceolate  lanceolate         none         none\n",
       "25  yellow_green  yellow_green  lanceolate  lanceolate       medium       medium"
      ]
     },
     "execution_count": 110,
     "metadata": {},
     "output_type": "execute_result"
    }
   ],
   "source": [
    "df = pd.DataFrame([\n",
    "    {['color_pred', 'color_true', 'shape_pred', 'shape_true', 'splotch_pred', 'splotch_true'][i]:\n",
    "    encoders[['color', 'shape', 'splotch'][i//2]].inverse_transform \\\n",
    "    ([y_pred[row][i//2] if i%2 else y_test[row][i//2]])[0] for i in range(6)}\n",
    "    for row in range(len(y_pred))\n",
    "])\n",
    "\n",
    "df.tail()"
   ]
  },
  {
   "cell_type": "markdown",
   "metadata": {},
   "source": [
    "#### Plot Confusion Matrices"
   ]
  },
  {
   "cell_type": "markdown",
   "metadata": {},
   "source": [
    "Confusion Matrix for Color Predictions"
   ]
  },
  {
   "cell_type": "code",
   "execution_count": 22,
   "metadata": {},
   "outputs": [
    {
     "data": {
      "image/png": "[encoded data removed]",
      "text/plain": [
       "<Figure size 640x480 with 2 Axes>"
      ]
     },
     "metadata": {},
     "output_type": "display_data"
    }
   ],
   "source": [
    "encoder = encoders['color']\n",
    "cm = confusion_matrix(y_test[:, 0], y_pred[:, 0])\n",
    "disp = ConfusionMatrixDisplay(cm)\n",
    "disp.plot(cmap=\"Greens\")\n",
    "plt.show()"
   ]
  },
  {
   "cell_type": "markdown",
   "metadata": {},
   "source": [
    "Confusion Matrix for Leaf Shapes"
   ]
  },
  {
   "cell_type": "code",
   "execution_count": 19,
   "metadata": {},
   "outputs": [
    {
     "data": {
      "image/png": "[encoded data removed]",
      "text/plain": [
       "<Figure size 640x480 with 2 Axes>"
      ]
     },
     "metadata": {},
     "output_type": "display_data"
    }
   ],
   "source": [
    "cm = confusion_matrix(y_test[:, 1], y_pred[:, 1])\n",
    "disp = ConfusionMatrixDisplay(cm)\n",
    "disp.plot(cmap=\"Greens\")\n",
    "plt.show()"
   ]
  },
  {
   "cell_type": "markdown",
   "metadata": {},
   "source": [
    "Confusion Matrix for Brown Splotch Level"
   ]
  },
  {
   "cell_type": "code",
   "execution_count": 20,
   "metadata": {},
   "outputs": [
    {
     "data": {
      "image/png": "[encoded data removed]",
      "text/plain": [
       "<Figure size 640x480 with 2 Axes>"
      ]
     },
     "metadata": {},
     "output_type": "display_data"
    }
   ],
   "source": [
    "cm = confusion_matrix(y_test[:, 2], y_pred[:, 2])\n",
    "disp = ConfusionMatrixDisplay(cm)\n",
    "disp.plot(cmap=\"Greens\")\n",
    "plt.show()"
   ]
  }
 ],
 "metadata": {
  "kernelspec": {
   "display_name": ".venv",
   "language": "python",
   "name": "python3"
  },
  "language_info": {
   "codemirror_mode": {
    "name": "ipython",
    "version": 3
   },
   "file_extension": ".py",
   "mimetype": "text/x-python",
   "name": "python",
   "nbconvert_exporter": "python",
   "pygments_lexer": "ipython3",
   "version": "3.10.6"
  },
  "orig_nbformat": 4
 },
 "nbformat": 4,
 "nbformat_minor": 2
}
