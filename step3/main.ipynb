{
 "cells": [
  {
   "cell_type": "markdown",
   "metadata": {},
   "source": [
    "**Question**: Can a predictive model be built using leaf morphology classifications that may indicate that a particular genotype was cultivated in a “drought” or “control” condition?"
   ]
  },
  {
   "cell_type": "code",
   "execution_count": 13,
   "metadata": {},
   "outputs": [],
   "source": [
    "import pandas as pd\n",
    "from pathlib import Path\n",
    "from sklearn.metrics import accuracy_score\n",
    "from sklearn.preprocessing import StandardScaler, OneHotEncoder\n",
    "from sklearn.model_selection import train_test_split\n",
    "from sklearn.ensemble import GradientBoostingClassifier"
   ]
  },
  {
   "cell_type": "code",
   "execution_count": 11,
   "metadata": {},
   "outputs": [
    {
     "data": {
      "text/plain": [
       "1672"
      ]
     },
     "execution_count": 11,
     "metadata": {},
     "output_type": "execute_result"
    }
   ],
   "source": [
    "HOME_DIR = Path().cwd().parent\n",
    "\n",
    "SHEET_DATA = pd.read_excel(f'{HOME_DIR}/data.xlsx')\n",
    "SHEET_DATA.head()\n",
    "\n",
    "len(SHEET_DATA)"
   ]
  },
  {
   "cell_type": "code",
   "execution_count": 17,
   "metadata": {},
   "outputs": [
    {
     "data": {
      "text/html": [
       "<div>\n",
       "<style scoped>\n",
       "    .dataframe tbody tr th:only-of-type {\n",
       "        vertical-align: middle;\n",
       "    }\n",
       "\n",
       "    .dataframe tbody tr th {\n",
       "        vertical-align: top;\n",
       "    }\n",
       "\n",
       "    .dataframe thead th {\n",
       "        text-align: right;\n",
       "    }\n",
       "</style>\n",
       "<table border=\"1\" class=\"dataframe\">\n",
       "  <thead>\n",
       "    <tr style=\"text-align: right;\">\n",
       "      <th></th>\n",
       "      <th>0</th>\n",
       "    </tr>\n",
       "  </thead>\n",
       "  <tbody>\n",
       "    <tr>\n",
       "      <th>0</th>\n",
       "      <td>(0, 1545)\\t1.0\\n  (0, 1673)\\t1.0\\n  (0, 1675...</td>\n",
       "    </tr>\n",
       "    <tr>\n",
       "      <th>1</th>\n",
       "      <td>(0, 610)\\t1.0\\n  (0, 1672)\\t1.0\\n  (0, 1675)...</td>\n",
       "    </tr>\n",
       "    <tr>\n",
       "      <th>2</th>\n",
       "      <td>(0, 1618)\\t1.0\\n  (0, 1672)\\t1.0\\n  (0, 1676...</td>\n",
       "    </tr>\n",
       "    <tr>\n",
       "      <th>3</th>\n",
       "      <td>(0, 960)\\t1.0\\n  (0, 1672)\\t1.0\\n  (0, 1676)...</td>\n",
       "    </tr>\n",
       "    <tr>\n",
       "      <th>4</th>\n",
       "      <td>(0, 1374)\\t1.0\\n  (0, 1672)\\t1.0\\n  (0, 1675...</td>\n",
       "    </tr>\n",
       "    <tr>\n",
       "      <th>...</th>\n",
       "      <td>...</td>\n",
       "    </tr>\n",
       "    <tr>\n",
       "      <th>1667</th>\n",
       "      <td>(0, 967)\\t1.0\\n  (0, 1674)\\t1.0\\n  (0, 1682)...</td>\n",
       "    </tr>\n",
       "    <tr>\n",
       "      <th>1668</th>\n",
       "      <td>(0, 169)\\t1.0\\n  (0, 1672)\\t1.0\\n  (0, 1675)...</td>\n",
       "    </tr>\n",
       "    <tr>\n",
       "      <th>1669</th>\n",
       "      <td>(0, 1430)\\t1.0\\n  (0, 1672)\\t1.0\\n  (0, 1676...</td>\n",
       "    </tr>\n",
       "    <tr>\n",
       "      <th>1670</th>\n",
       "      <td>(0, 225)\\t1.0\\n  (0, 1672)\\t1.0\\n  (0, 1676)...</td>\n",
       "    </tr>\n",
       "    <tr>\n",
       "      <th>1671</th>\n",
       "      <td>(0, 634)\\t1.0\\n  (0, 1672)\\t1.0\\n  (0, 1676)...</td>\n",
       "    </tr>\n",
       "  </tbody>\n",
       "</table>\n",
       "<p>1672 rows × 1 columns</p>\n",
       "</div>"
      ],
      "text/plain": [
       "                                                      0\n",
       "0       (0, 1545)\\t1.0\\n  (0, 1673)\\t1.0\\n  (0, 1675...\n",
       "1       (0, 610)\\t1.0\\n  (0, 1672)\\t1.0\\n  (0, 1675)...\n",
       "2       (0, 1618)\\t1.0\\n  (0, 1672)\\t1.0\\n  (0, 1676...\n",
       "3       (0, 960)\\t1.0\\n  (0, 1672)\\t1.0\\n  (0, 1676)...\n",
       "4       (0, 1374)\\t1.0\\n  (0, 1672)\\t1.0\\n  (0, 1675...\n",
       "...                                                 ...\n",
       "1667    (0, 967)\\t1.0\\n  (0, 1674)\\t1.0\\n  (0, 1682)...\n",
       "1668    (0, 169)\\t1.0\\n  (0, 1672)\\t1.0\\n  (0, 1675)...\n",
       "1669    (0, 1430)\\t1.0\\n  (0, 1672)\\t1.0\\n  (0, 1676...\n",
       "1670    (0, 225)\\t1.0\\n  (0, 1672)\\t1.0\\n  (0, 1676)...\n",
       "1671    (0, 634)\\t1.0\\n  (0, 1672)\\t1.0\\n  (0, 1676)...\n",
       "\n",
       "[1672 rows x 1 columns]"
      ]
     },
     "execution_count": 17,
     "metadata": {},
     "output_type": "execute_result"
    }
   ],
   "source": [
    "LIST_OF_CLASSES = ['class1', 'class2', 'class3']\n",
    "enc = OneHotEncoder()\n",
    "pd.DataFrame(enc.fit_transform(SHEET_DATA))"
   ]
  }
 ],
 "metadata": {
  "kernelspec": {
   "display_name": ".venv",
   "language": "python",
   "name": "python3"
  },
  "language_info": {
   "codemirror_mode": {
    "name": "ipython",
    "version": 3
   },
   "file_extension": ".py",
   "mimetype": "text/x-python",
   "name": "python",
   "nbconvert_exporter": "python",
   "pygments_lexer": "ipython3",
   "version": "3.10.6"
  },
  "orig_nbformat": 4
 },
 "nbformat": 4,
 "nbformat_minor": 2
}
