{
 "cells": [
  {
   "cell_type": "markdown",
   "metadata": {},
   "source": [
    "**Question**: GPS and other camera information are encoded in exif tags. Can this data be used to determine characteristics such as leaf size? Can other data, such as soil maps, weather, etc. be used to find correlations among phenotypes?"
   ]
  },
  {
   "cell_type": "code",
   "execution_count": 1,
   "metadata": {},
   "outputs": [],
   "source": [
    "import cv2\n",
    "import random\n",
    "import exif\n",
    "import pandas as pd\n",
    "import numpy as np\n",
    "from pathlib import Path\n",
    "from datetime import datetime, timedelta \n",
    "from collections import Counter\n",
    "import matplotlib.pyplot as plt\n",
    "from meteostat import Point, Daily, Monthly"
   ]
  },
  {
   "cell_type": "markdown",
   "metadata": {},
   "source": [
    "Load the data"
   ]
  },
  {
   "cell_type": "code",
   "execution_count": 2,
   "metadata": {},
   "outputs": [
    {
     "data": {
      "text/html": [
       "<div>\n",
       "<style scoped>\n",
       "    .dataframe tbody tr th:only-of-type {\n",
       "        vertical-align: middle;\n",
       "    }\n",
       "\n",
       "    .dataframe tbody tr th {\n",
       "        vertical-align: top;\n",
       "    }\n",
       "\n",
       "    .dataframe thead th {\n",
       "        text-align: right;\n",
       "    }\n",
       "</style>\n",
       "<table border=\"1\" class=\"dataframe\">\n",
       "  <thead>\n",
       "    <tr style=\"text-align: right;\">\n",
       "      <th></th>\n",
       "      <th>filename</th>\n",
       "      <th>treatment</th>\n",
       "      <th>block</th>\n",
       "      <th>row</th>\n",
       "      <th>position</th>\n",
       "      <th>genotype</th>\n",
       "      <th>leaf_color</th>\n",
       "      <th>leaf_shape</th>\n",
       "      <th>brown_splotches</th>\n",
       "    </tr>\n",
       "  </thead>\n",
       "  <tbody>\n",
       "    <tr>\n",
       "      <th>1667</th>\n",
       "      <td>91F395A8-E156-416C-84E8-A2880F067945.jpg</td>\n",
       "      <td>D*</td>\n",
       "      <td>NaN</td>\n",
       "      <td>NaN</td>\n",
       "      <td>NaN</td>\n",
       "      <td>NaN</td>\n",
       "      <td>dark_green</td>\n",
       "      <td>lanceolate</td>\n",
       "      <td>low</td>\n",
       "    </tr>\n",
       "    <tr>\n",
       "      <th>1668</th>\n",
       "      <td>18E8E0DC-35EE-4C34-839A-71E0E6D7F3AD.jpg</td>\n",
       "      <td>C</td>\n",
       "      <td>1.0</td>\n",
       "      <td>12.0</td>\n",
       "      <td>27.0</td>\n",
       "      <td>GW-6962_WP</td>\n",
       "      <td>yellow_green</td>\n",
       "      <td>lanceolate</td>\n",
       "      <td>low</td>\n",
       "    </tr>\n",
       "    <tr>\n",
       "      <th>1669</th>\n",
       "      <td>DB2D48CC-17CD-4A96-BC52-CFFC5879641B.jpg</td>\n",
       "      <td>C</td>\n",
       "      <td>2.0</td>\n",
       "      <td>5.0</td>\n",
       "      <td>49.0</td>\n",
       "      <td>GW-9784_LM</td>\n",
       "      <td>light_green</td>\n",
       "      <td>lanceolate</td>\n",
       "      <td>none</td>\n",
       "    </tr>\n",
       "    <tr>\n",
       "      <th>1670</th>\n",
       "      <td>2258AE77-D53C-446F-8DAD-0E948854EBDC.jpg</td>\n",
       "      <td>C</td>\n",
       "      <td>2.0</td>\n",
       "      <td>42.0</td>\n",
       "      <td>43.0</td>\n",
       "      <td>**GW-4579_WP**,core</td>\n",
       "      <td>dark_green</td>\n",
       "      <td>lanceolate</td>\n",
       "      <td>low</td>\n",
       "    </tr>\n",
       "    <tr>\n",
       "      <th>1671</th>\n",
       "      <td>5FCC7048-CC04-40DA-B3DB-F6404CA41931.jpg</td>\n",
       "      <td>C</td>\n",
       "      <td>2.0</td>\n",
       "      <td>38.0</td>\n",
       "      <td>31.0</td>\n",
       "      <td>BESC-217_LM</td>\n",
       "      <td>dark_green</td>\n",
       "      <td>elliptical</td>\n",
       "      <td>high</td>\n",
       "    </tr>\n",
       "  </tbody>\n",
       "</table>\n",
       "</div>"
      ],
      "text/plain": [
       "                                      filename treatment  block   row  \\\n",
       "1667  91F395A8-E156-416C-84E8-A2880F067945.jpg        D*    NaN   NaN   \n",
       "1668  18E8E0DC-35EE-4C34-839A-71E0E6D7F3AD.jpg         C    1.0  12.0   \n",
       "1669  DB2D48CC-17CD-4A96-BC52-CFFC5879641B.jpg         C    2.0   5.0   \n",
       "1670  2258AE77-D53C-446F-8DAD-0E948854EBDC.jpg         C    2.0  42.0   \n",
       "1671  5FCC7048-CC04-40DA-B3DB-F6404CA41931.jpg         C    2.0  38.0   \n",
       "\n",
       "      position             genotype    leaf_color  leaf_shape brown_splotches  \n",
       "1667       NaN                  NaN    dark_green  lanceolate             low  \n",
       "1668      27.0           GW-6962_WP  yellow_green  lanceolate             low  \n",
       "1669      49.0           GW-9784_LM   light_green  lanceolate            none  \n",
       "1670      43.0  **GW-4579_WP**,core    dark_green  lanceolate             low  \n",
       "1671      31.0          BESC-217_LM    dark_green  elliptical            high  "
      ]
     },
     "execution_count": 2,
     "metadata": {},
     "output_type": "execute_result"
    }
   ],
   "source": [
    "HOME_DIR = str(Path().cwd().parent)\n",
    "\n",
    "SHEET_DATA = pd.read_excel(f\"{HOME_DIR}/step3/data.xlsx\")\n",
    "SHEET_DATA.tail()"
   ]
  },
  {
   "cell_type": "markdown",
   "metadata": {},
   "source": [
    "Function and type declarations"
   ]
  },
  {
   "cell_type": "code",
   "execution_count": 3,
   "metadata": {},
   "outputs": [],
   "source": [
    "cv2.Image = np.ndarray\n",
    "cv2.Contour = np.ndarray\n",
    "\n",
    "# shows an image on ipynb\n",
    "def imshow(img: np.ndarray) -> None:\n",
    "    plt.axis('off')\n",
    "    plt.grid(False)\n",
    "    plt.imshow(cv2.cvtColor(img, cv2.COLOR_BGR2RGB))\n",
    "    plt.show()\n",
    "\n",
    "# get a random filename from within the sheet\n",
    "def get_random_filename() -> str:\n",
    "    return SHEET_DATA['filename'][random.randint(0, len(SHEET_DATA)-1)]\n",
    "\n",
    "# get contours that are optimized by the area - to - boudning rect metric, with large contours favored\n",
    "def get_optimized_contours(contours: list[cv2.Contour], n: int = 1) -> list[cv2.Contour]:\n",
    "    \"\"\" minimize the area of the rectangle and maximize contour area \"\"\"\n",
    "    adjusted_contours = []\n",
    "    for contour in contours:\n",
    "        _, _, w, h = cv2.boundingRect(contour)\n",
    "        adjusted_contours.append([contour, cv2.contourArea(contour)**1.5/(w*h)])\n",
    "    return [x[0] for x in sorted(adjusted_contours, key=lambda x: x[1], reverse=True)[:n]]\n",
    "\n",
    "# display filename and image, and get image going to filename\n",
    "def get_image(filename: str = None, show: bool = True):\n",
    "    if filename is None:\n",
    "        filename = get_random_filename()\n",
    "    img = cv2.imread(f\"{HOME_DIR}/dataset/{filename}\")\n",
    "    if show:\n",
    "        print(filename)\n",
    "        imshow(img)\n",
    "    return img"
   ]
  },
  {
   "cell_type": "markdown",
   "metadata": {},
   "source": [
    "Get the EXIF tags from the image"
   ]
  },
  {
   "cell_type": "code",
   "execution_count": 4,
   "metadata": {},
   "outputs": [
    {
     "name": "stdout",
     "output_type": "stream",
     "text": [
      "((38.0, 32.0, 27.04093), (-121.0, -47.0, -24.7017))\n",
      "2021-08-31 00:00:00\n"
     ]
    }
   ],
   "source": [
    "def get_lat_long(filename: str) -> tuple:\n",
    "    with open(f\"{HOME_DIR}/dataset/{filename}\", \"rb\") as f:\n",
    "        exifs = exif.Image(f)\n",
    "    lat = np.array(exifs.gps_latitude) * ((exifs.gps_latitude_ref == 'N') * 2 - 1)\n",
    "    long = np.array(exifs.gps_longitude) * ((exifs.gps_longitude_ref == 'E') * 2 - 1)\n",
    "    return (tuple(lat), tuple(long))\n",
    "\n",
    "def get_date(filename: str) -> datetime:\n",
    "    with open(f\"{HOME_DIR}/dataset/{filename}\", \"rb\") as f:\n",
    "        exifs = exif.Image(f)\n",
    "    return datetime(*map(int, exifs.gps_datestamp.split('-')))\n",
    "\n",
    "filename = get_random_filename()\n",
    "print(get_lat_long(filename))\n",
    "print(get_date(filename))"
   ]
  },
  {
   "cell_type": "markdown",
   "metadata": {},
   "source": [
    "#### Visualize unique dates and locations"
   ]
  },
  {
   "cell_type": "code",
   "execution_count": 5,
   "metadata": {},
   "outputs": [],
   "source": [
    "locations, dates = [], []\n",
    "for filename in SHEET_DATA['filename']:\n",
    "\n",
    "    dates.append(get_date(filename))\n",
    "    locations.append(get_lat_long(filename))"
   ]
  },
  {
   "cell_type": "markdown",
   "metadata": {},
   "source": [
    "Unique dates"
   ]
  },
  {
   "cell_type": "code",
   "execution_count": 6,
   "metadata": {},
   "outputs": [
    {
     "data": {
      "text/plain": [
       "{datetime.datetime(2021, 8, 30, 0, 0),\n",
       " datetime.datetime(2021, 8, 31, 0, 0),\n",
       " datetime.datetime(2021, 9, 1, 0, 0),\n",
       " datetime.datetime(2021, 9, 2, 0, 0),\n",
       " datetime.datetime(2021, 9, 3, 0, 0)}"
      ]
     },
     "execution_count": 6,
     "metadata": {},
     "output_type": "execute_result"
    }
   ],
   "source": [
    "set(dates)"
   ]
  },
  {
   "cell_type": "markdown",
   "metadata": {},
   "source": [
    "Unique approximate locations"
   ]
  },
  {
   "cell_type": "code",
   "execution_count": 56,
   "metadata": {},
   "outputs": [
    {
     "data": {
      "text/plain": [
       "{((38.0, 32.0), (-121.0, -47.0))}"
      ]
     },
     "execution_count": 56,
     "metadata": {},
     "output_type": "execute_result"
    }
   ],
   "source": [
    "{*map(lambda x: tuple(map(lambda y: y[:2], x)), locations)}"
   ]
  },
  {
   "cell_type": "markdown",
   "metadata": {},
   "source": [
    "#### NOTE: THE ANALYSIS BELOW IS NOT IN THE PAPER, IT WAS DONE AFTER SUBMISSION"
   ]
  },
  {
   "cell_type": "markdown",
   "metadata": {},
   "source": [
    "Location by row? to physical traits"
   ]
  },
  {
   "cell_type": "code",
   "execution_count": null,
   "metadata": {},
   "outputs": [],
   "source": [
    "data = []\n",
    "target_correlation = \"treatment\"\n",
    "is_nan = lambda x: str(x) == 'nan' or (x > 1000 if isinstance(x, float) else False)\n",
    "for i in range(len(SHEET_DATA)):\n",
    "    x, y = get_lat_long(SHEET_DATA[\"filename\"][i])\n",
    "    t = SHEET_DATA[target_correlation][i]\n",
    "    if all(not is_nan(i) for i in [x, y, t]):\n",
    "        data.append({\n",
    "            target_correlation: t,\n",
    "            \"x\": x[2],\n",
    "            \"y\": y[2]\n",
    "        })"
   ]
  },
  {
   "cell_type": "markdown",
   "metadata": {},
   "source": [
    "Plot data"
   ]
  },
  {
   "cell_type": "code",
   "execution_count": 73,
   "metadata": {},
   "outputs": [
    {
     "data": {
      "image/png": "[encoded data removed]",
      "text/plain": [
       "<Figure size 640x480 with 1 Axes>"
      ]
     },
     "metadata": {},
     "output_type": "display_data"
    }
   ],
   "source": [
    "different_classes = {}\n",
    "for row in data:\n",
    "    t = row[target_correlation]\n",
    "    if not different_classes.get(t):\n",
    "        different_classes[t] = {'x': [], 'y': []}\n",
    "    different_classes[t]['x'].append(row['x'])\n",
    "    different_classes[t]['y'].append(row['y'])\n",
    "\n",
    "del different_classes[\"C*\"] \n",
    "del different_classes[\"D*\"]\n",
    "\n",
    "for (cls, d), color in zip(different_classes.items(), ['red', 'blue', 'green', 'magenta', 'orange']):\n",
    "    plt.scatter(d['x'], d['y'], color=color, label=cls, s=10)\n",
    "plt.legend(loc=\"best\")\n",
    "plt.show()"
   ]
  },
  {
   "cell_type": "markdown",
   "metadata": {},
   "source": [
    "It can be seen that there are specific rows given the drought label. However, there is not much else that can be found."
   ]
  }
 ],
 "metadata": {
  "kernelspec": {
   "display_name": ".venv",
   "language": "python",
   "name": "python3"
  },
  "language_info": {
   "codemirror_mode": {
    "name": "ipython",
    "version": 3
   },
   "file_extension": ".py",
   "mimetype": "text/x-python",
   "name": "python",
   "nbconvert_exporter": "python",
   "pygments_lexer": "ipython3",
   "version": "3.9.6"
  },
  "orig_nbformat": 4
 },
 "nbformat": 4,
 "nbformat_minor": 2
}
