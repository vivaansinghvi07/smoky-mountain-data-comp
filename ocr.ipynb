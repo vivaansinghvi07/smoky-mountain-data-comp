{
 "cells": [
  {
   "cell_type": "code",
   "execution_count": 3,
   "metadata": {},
   "outputs": [
    {
     "ename": "ModuleNotFoundError",
     "evalue": "No module named 'easyocr'",
     "output_type": "error",
     "traceback": [
      "\u001b[1;31m---------------------------------------------------------------------------\u001b[0m",
      "\u001b[1;31mModuleNotFoundError\u001b[0m                       Traceback (most recent call last)",
      "Cell \u001b[1;32mIn[3], line 8\u001b[0m\n\u001b[0;32m      6\u001b[0m \u001b[39mfrom\u001b[39;00m \u001b[39mPIL\u001b[39;00m \u001b[39mimport\u001b[39;00m Image\n\u001b[0;32m      7\u001b[0m \u001b[39mfrom\u001b[39;00m \u001b[39mmatplotlib\u001b[39;00m \u001b[39mimport\u001b[39;00m pyplot \u001b[39mas\u001b[39;00m plt\n\u001b[1;32m----> 8\u001b[0m \u001b[39mfrom\u001b[39;00m \u001b[39measyocr\u001b[39;00m \u001b[39mimport\u001b[39;00m easyocr\n\u001b[0;32m      9\u001b[0m \u001b[39mfrom\u001b[39;00m \u001b[39mpathlib\u001b[39;00m \u001b[39mimport\u001b[39;00m Path\n\u001b[0;32m     11\u001b[0m pytesseract\u001b[39m.\u001b[39mpytesseract\u001b[39m.\u001b[39mtesseract_cmd \u001b[39m=\u001b[39m \u001b[39m\"\u001b[39m\u001b[39mC:\u001b[39m\u001b[39m\\\\\u001b[39;00m\u001b[39mProgram Files\u001b[39m\u001b[39m\\\\\u001b[39;00m\u001b[39mTesseract-OCR\u001b[39m\u001b[39m\\\\\u001b[39;00m\u001b[39mtesseract\u001b[39m\u001b[39m\"\u001b[39m\n",
      "\u001b[1;31mModuleNotFoundError\u001b[0m: No module named 'easyocr'"
     ]
    }
   ],
   "source": [
    "import openpyxl \n",
    "import os\n",
    "import cv2\n",
    "import pytesseract\n",
    "import tensorflow as tf\n",
    "from PIL import Image\n",
    "from matplotlib import pyplot as plt\n",
    "from easyocr import easyocr\n",
    "from pathlib import Path\n",
    "\n",
    "pytesseract.pytesseract.tesseract_cmd = \"C:\\\\Program Files\\\\Tesseract-OCR\\\\tesseract\"\n",
    "\n",
    "\n",
    "ALPHABET = 'ABCDEFGHIJKLMNOPQRSTUVWXYZ'\n",
    "DATASET_PATH = f'dataset'\n",
    "# READER = easyocr.Reader(['en'])\n",
    "\n",
    "# shows an image on ipynb\n",
    "def imshow(img):\n",
    "    plt.axis('off')\n",
    "    plt.grid(False)\n",
    "    plt.imshow(cv2.cvtColor(img, cv2.COLOR_BGR2RGB))\n",
    "    plt.show()"
   ]
  },
  {
   "attachments": {},
   "cell_type": "markdown",
   "metadata": {},
   "source": [
    "Get all testing images into an array"
   ]
  },
  {
   "cell_type": "code",
   "execution_count": null,
   "metadata": {},
   "outputs": [],
   "source": [
    "images = []\n",
    "for (id, filename) in enumerate(os.listdir(DATASET_PATH)):\n",
    "    image = cv2.imread(f\"{DATASET_PATH}/{filename}\")\n",
    "    images.append((filename, image))"
   ]
  },
  {
   "attachments": {},
   "cell_type": "markdown",
   "metadata": {},
   "source": [
    "Defines image cropper to center the text in the image"
   ]
  },
  {
   "cell_type": "code",
   "execution_count": null,
   "metadata": {},
   "outputs": [],
   "source": [
    "def crop_image(img: cv2.Mat):\n",
    "\n",
    "    gray = cv2.cvtColor(img, cv2.COLOR_BGR2GRAY)\n",
    "    blur = cv2.GaussianBlur(gray, (71, 71), 0)\n",
    "    ret, thresh = cv2.threshold(blur,150,255,0)\n",
    "    contours, hierarchy = cv2.findContours(thresh, cv2.RETR_TREE, cv2.CHAIN_APPROX_SIMPLE)\n",
    "\n",
    "    big_contour = sorted(contours, key=cv2.contourArea, reverse=True)[0]\n",
    "\n",
    "    x, y, w, h = cv2.boundingRect(big_contour) \n",
    "    newimg = img[y:y+h, x:x+w]\n",
    "\n",
    "    return newimg\n",
    "\n",
    "if __name__ == \"__main__\":\n",
    "    img = crop_image(images[1][1])\n",
    "    imshow(img)"
   ]
  },
  {
   "attachments": {},
   "cell_type": "markdown",
   "metadata": {},
   "source": [
    "Generate synthetic data to train neural network"
   ]
  },
  {
   "cell_type": "code",
   "execution_count": null,
   "metadata": {},
   "outputs": [],
   "source": [
    "from trdg.generators import GeneratorFromStrings\n",
    "import random\n",
    "\n",
    "def get_random_text():\n",
    "    treatment = random.choice(['C', 'D'])\n",
    "    block = f\"B{random.choice(['1', '2'])}\"\n",
    "    row = f\"R{random.randint(1, 99)}\"\n",
    "    position = f\"P{random.randint(1, 99)}\"\n",
    "    \n",
    "    gen_length = random.randint(2, 4)\n",
    "    num_count = random.choices([1, 2, 3], weights=(70, 15, 15))[0]\n",
    "    num_lengths = random.choices([1, 2, 3, 4], weights=(15, 15, 15, 55), k=num_count)\n",
    "\n",
    "    genotype = (\n",
    "        \"\".join([ALPHABET[random.randint(0, 25)] for _ in range(gen_length)]) + \n",
    "        f\"-{'-'.join([str(random.randint(10**(i-1), 10**i-1)) for i in num_lengths])}_LM\"\n",
    "    )\n",
    "\n",
    "    return ','.join([treatment, block, row, position, genotype])\n",
    "\n",
    "generator = GeneratorFromStrings(\n",
    "    [get_random_text() for _ in range(1000)],\n",
    "    random_blur=True,\n",
    "    random_skew=True,\n",
    "    blur=2,\n",
    ")\n",
    "\n",
    "for img, lbl in generator:\n",
    "    img.save(f'examples/{lbl}.png')\n",
    "    "
   ]
  },
  {
   "attachments": {},
   "cell_type": "markdown",
   "metadata": {},
   "source": [
    "Delete all the examples if needed"
   ]
  },
  {
   "cell_type": "code",
   "execution_count": null,
   "metadata": {},
   "outputs": [],
   "source": [
    "import os\n",
    "if os.name == 'nt':\n",
    "    os.system('rmdir /S /Q examples') \n",
    "else:\n",
    "    os.system('rm -rf examples')"
   ]
  },
  {
   "cell_type": "code",
   "execution_count": null,
   "metadata": {},
   "outputs": [],
   "source": []
  }
 ],
 "metadata": {
  "kernelspec": {
   "display_name": ".venv",
   "language": "python",
   "name": "python3"
  },
  "language_info": {
   "codemirror_mode": {
    "name": "ipython",
    "version": 3
   },
   "file_extension": ".py",
   "mimetype": "text/x-python",
   "name": "python",
   "nbconvert_exporter": "python",
   "pygments_lexer": "ipython3",
   "version": "3.11.4"
  },
  "orig_nbformat": 4
 },
 "nbformat": 4,
 "nbformat_minor": 2
}
