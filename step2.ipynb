{
 "cells": [
  {
   "cell_type": "code",
   "execution_count": 2,
   "metadata": {},
   "outputs": [],
   "source": [
    "import pandas as pd"
   ]
  },
  {
   "attachments": {},
   "cell_type": "markdown",
   "metadata": {},
   "source": [
    "Loads the spreadsheet"
   ]
  },
  {
   "cell_type": "code",
   "execution_count": 3,
   "metadata": {},
   "outputs": [
    {
     "data": {
      "text/html": [
       "<div>\n",
       "<style scoped>\n",
       "    .dataframe tbody tr th:only-of-type {\n",
       "        vertical-align: middle;\n",
       "    }\n",
       "\n",
       "    .dataframe tbody tr th {\n",
       "        vertical-align: top;\n",
       "    }\n",
       "\n",
       "    .dataframe thead th {\n",
       "        text-align: right;\n",
       "    }\n",
       "</style>\n",
       "<table border=\"1\" class=\"dataframe\">\n",
       "  <thead>\n",
       "    <tr style=\"text-align: right;\">\n",
       "      <th></th>\n",
       "      <th>filename</th>\n",
       "      <th>treatment</th>\n",
       "      <th>block</th>\n",
       "      <th>row</th>\n",
       "      <th>position</th>\n",
       "      <th>genotype</th>\n",
       "    </tr>\n",
       "  </thead>\n",
       "  <tbody>\n",
       "    <tr>\n",
       "      <th>0</th>\n",
       "      <td>EB00CEE6-848F-4E2A-9A56-C0CD83D55630.jpg</td>\n",
       "      <td>D</td>\n",
       "      <td>1.0</td>\n",
       "      <td>8.0</td>\n",
       "      <td>32.0</td>\n",
       "      <td>BESC-34</td>\n",
       "    </tr>\n",
       "    <tr>\n",
       "      <th>1</th>\n",
       "      <td>5AF900F9-D701-4994-95AC-2352420BF18F.jpg</td>\n",
       "      <td>C</td>\n",
       "      <td>1.0</td>\n",
       "      <td>10.0</td>\n",
       "      <td>12.0</td>\n",
       "      <td>**BESC-417_LM**,core</td>\n",
       "    </tr>\n",
       "    <tr>\n",
       "      <th>2</th>\n",
       "      <td>F7D01515-92CA-4AF5-9BD9-3A4CD99EDF42.jpg</td>\n",
       "      <td>C</td>\n",
       "      <td>2.0</td>\n",
       "      <td>3.0</td>\n",
       "      <td>40.0</td>\n",
       "      <td>BESC-468</td>\n",
       "    </tr>\n",
       "    <tr>\n",
       "      <th>3</th>\n",
       "      <td>9117861B-2D2B-4EA8-94B1-D0A862914398.jpg</td>\n",
       "      <td>C</td>\n",
       "      <td>2.0</td>\n",
       "      <td>6.0</td>\n",
       "      <td>54.0</td>\n",
       "      <td>BESC-28_LM</td>\n",
       "    </tr>\n",
       "    <tr>\n",
       "      <th>4</th>\n",
       "      <td>D1B282CF-2A10-4458-9E3A-FE08E065A3D6.jpg</td>\n",
       "      <td>C</td>\n",
       "      <td>1.0</td>\n",
       "      <td>24.0</td>\n",
       "      <td>22.0</td>\n",
       "      <td>**LILD-26-5_LM**,core</td>\n",
       "    </tr>\n",
       "  </tbody>\n",
       "</table>\n",
       "</div>"
      ],
      "text/plain": [
       "                                   filename treatment  block   row  position  \\\n",
       "0  EB00CEE6-848F-4E2A-9A56-C0CD83D55630.jpg         D    1.0   8.0      32.0   \n",
       "1  5AF900F9-D701-4994-95AC-2352420BF18F.jpg         C    1.0  10.0      12.0   \n",
       "2  F7D01515-92CA-4AF5-9BD9-3A4CD99EDF42.jpg         C    2.0   3.0      40.0   \n",
       "3  9117861B-2D2B-4EA8-94B1-D0A862914398.jpg         C    2.0   6.0      54.0   \n",
       "4  D1B282CF-2A10-4458-9E3A-FE08E065A3D6.jpg         C    1.0  24.0      22.0   \n",
       "\n",
       "                genotype  \n",
       "0                BESC-34  \n",
       "1   **BESC-417_LM**,core  \n",
       "2               BESC-468  \n",
       "3             BESC-28_LM  \n",
       "4  **LILD-26-5_LM**,core  "
      ]
     },
     "execution_count": 3,
     "metadata": {},
     "output_type": "execute_result"
    }
   ],
   "source": [
    "SHEET_DATA = pd.read_excel(\"./data.xlsx\")\n",
    "SHEET_DATA.head()"
   ]
  }
 ],
 "metadata": {
  "kernelspec": {
   "display_name": ".venv",
   "language": "python",
   "name": "python3"
  },
  "language_info": {
   "codemirror_mode": {
    "name": "ipython",
    "version": 3
   },
   "file_extension": ".py",
   "mimetype": "text/x-python",
   "name": "python",
   "nbconvert_exporter": "python",
   "pygments_lexer": "ipython3",
   "version": "3.10.6"
  },
  "orig_nbformat": 4
 },
 "nbformat": 4,
 "nbformat_minor": 2
}
